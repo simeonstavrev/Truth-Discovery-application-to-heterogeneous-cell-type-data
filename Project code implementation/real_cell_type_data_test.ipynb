{
 "cells": [
  {
   "cell_type": "code",
   "execution_count": 1,
   "id": "26bcee57",
   "metadata": {},
   "outputs": [],
   "source": [
    "import numpy as np\n",
    "import pandas as pd\n",
    "from pandas import *\n",
    "from truthdiscovery import (\n",
    "    AverageLog,\n",
    "    ConvergenceIterator,\n",
    "    FixedIterator,\n",
    "    Investment,\n",
    "    MajorityVoting,\n",
    "    PooledInvestment,\n",
    "    Sums,\n",
    "    TruthFinder,\n",
    "    SyntheticData,\n",
    "    Dataset,\n",
    "    FileDataset,\n",
    "    SupervisedData\n",
    ")\n"
   ]
  },
  {
   "cell_type": "markdown",
   "id": "6d63c09d",
   "metadata": {},
   "source": [
    "### Loading cell annotator predictions"
   ]
  },
  {
   "cell_type": "code",
   "execution_count": 2,
   "id": "194c555c",
   "metadata": {},
   "outputs": [],
   "source": [
    "predictions1 = pd.read_excel(r\"C:\\Users\\Simeon\\OneDrive - University of Surrey\\shared_folder\\Finished dataframes\\scn_pred.xlsx\", names = [0],na_values='')"
   ]
  },
  {
   "cell_type": "code",
   "execution_count": 3,
   "id": "54406216",
   "metadata": {},
   "outputs": [],
   "source": [
    "predictions2 = pd.read_excel(r\"C:\\Users\\Simeon\\OneDrive - University of Surrey\\shared_folder\\Finished dataframes\\singleR_pred.xlsx\", names = [0],na_values='')"
   ]
  },
  {
   "cell_type": "code",
   "execution_count": 4,
   "id": "9e0b3950",
   "metadata": {},
   "outputs": [],
   "source": [
    "predictions3 = pd.read_excel(r\"C:\\Users\\Simeon\\OneDrive - University of Surrey\\shared_folder\\Finished dataframes\\azimuth_pred.xlsx\", names = [0],na_values='')"
   ]
  },
  {
   "cell_type": "markdown",
   "id": "e51680ca",
   "metadata": {},
   "source": [
    "### Arranging predictions into \"claims\" format to use with Truth Discovery algorithms"
   ]
  },
  {
   "cell_type": "code",
   "execution_count": 5,
   "id": "9740de48",
   "metadata": {},
   "outputs": [],
   "source": [
    "predictions1 = predictions1.values.tolist()\n",
    "final_p1 = []\n",
    "for a in range(len(predictions1)):\n",
    "    final_p1.append(predictions1[a][0])\n",
    "    \n",
    "predictions2 = predictions2.values.tolist()\n",
    "final_p2 = []\n",
    "for b in range(len(predictions2)):\n",
    "    final_p2.append(predictions2[b][0])\n",
    "    \n",
    "predictions3 = predictions3.values.tolist()\n",
    "final_p3 = []\n",
    "for c in range(len(predictions3)):\n",
    "    final_p3.append(predictions3[c][0])"
   ]
  },
  {
   "cell_type": "code",
   "execution_count": 6,
   "id": "8eb55f44",
   "metadata": {},
   "outputs": [],
   "source": [
    "data = [final_p1, final_p2, final_p3]"
   ]
  },
  {
   "cell_type": "code",
   "execution_count": 7,
   "id": "ed3e82c6",
   "metadata": {},
   "outputs": [],
   "source": [
    "index = 0\n",
    "claims = []\n",
    "for claim in data:\n",
    "    for z, cell_type in enumerate(claim):\n",
    "        if cell_type == ' ':\n",
    "            claims.append((f'source {index}', f'cell {z+1}', ''))\n",
    "        else:    \n",
    "            claims.append((f'source {index}', f'cell {z+1}', cell_type))\n",
    "    index+=1\n",
    "\n",
    "\n",
    "        \n",
    "        "
   ]
  },
  {
   "cell_type": "markdown",
   "id": "c6da826b",
   "metadata": {},
   "source": [
    "### Running Truth Discovery algorithm"
   ]
  },
  {
   "cell_type": "code",
   "execution_count": 8,
   "id": "69359705",
   "metadata": {},
   "outputs": [],
   "source": [
    "algorithm = Sums()\n",
    "mydata = Dataset(claims)\n",
    "results = algorithm.run(mydata)"
   ]
  },
  {
   "cell_type": "code",
   "execution_count": 9,
   "id": "cecb57ad",
   "metadata": {},
   "outputs": [],
   "source": [
    "truths = []\n",
    "truths_final = []\n",
    "for s in range(1,len(predictions2)+1):\n",
    "    truths.append(list(results.get_most_believed_values(f\"cell {s}\")))\n",
    "for x in truths:\n",
    "    truths_final.append(x[0])\n"
   ]
  },
  {
   "cell_type": "markdown",
   "id": "0c199c1f",
   "metadata": {},
   "source": [
    "### Getting each source's trust score (where source 0 is from predictions1 i.e. SCN cell annotator etc.)"
   ]
  },
  {
   "cell_type": "code",
   "execution_count": 10,
   "id": "1997b7ee",
   "metadata": {},
   "outputs": [
    {
     "data": {
      "text/plain": [
       "{'source 0': 0.0024850844936194767,\n",
       " 'source 1': 1.0,\n",
       " 'source 2': 0.9999969122560242}"
      ]
     },
     "execution_count": 10,
     "metadata": {},
     "output_type": "execute_result"
    }
   ],
   "source": [
    " results.filter(sources=[\"source 0\",'source 1','source 2']).trust"
   ]
  },
  {
   "cell_type": "markdown",
   "id": "842f70b0",
   "metadata": {},
   "source": [
    "### Kendall Rank correlation of annotator's predictions with computed ture labels"
   ]
  },
  {
   "cell_type": "code",
   "execution_count": 11,
   "id": "3c5a9ccb",
   "metadata": {},
   "outputs": [],
   "source": [
    "y_true = truths_final\n",
    "y_pred = final_p3"
   ]
  },
  {
   "cell_type": "code",
   "execution_count": 12,
   "id": "c9bab927",
   "metadata": {},
   "outputs": [
    {
     "name": "stdout",
     "output_type": "stream",
     "text": [
      "Kendall Rank correlation: 0.72885\n"
     ]
    }
   ],
   "source": [
    "# Import required libraries\n",
    "from scipy.stats import kendalltau\n",
    "  \n",
    "# Taking values from the above example in Lists\n",
    "X = y_true\n",
    "Y = y_pred\n",
    "  \n",
    "# Calculating Kendall Rank correlation\n",
    "corr, _ = kendalltau(X, Y)\n",
    "print('Kendall Rank correlation: %.5f' % corr)"
   ]
  }
 ],
 "metadata": {
  "kernelspec": {
   "display_name": "Python 3 (ipykernel)",
   "language": "python",
   "name": "python3"
  },
  "language_info": {
   "codemirror_mode": {
    "name": "ipython",
    "version": 3
   },
   "file_extension": ".py",
   "mimetype": "text/x-python",
   "name": "python",
   "nbconvert_exporter": "python",
   "pygments_lexer": "ipython3",
   "version": "3.9.7"
  }
 },
 "nbformat": 4,
 "nbformat_minor": 5
}
