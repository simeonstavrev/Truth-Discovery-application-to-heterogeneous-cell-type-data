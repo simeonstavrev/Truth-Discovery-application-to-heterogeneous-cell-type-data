{
 "cells": [
  {
   "cell_type": "code",
   "execution_count": 2,
   "id": "9aa94344",
   "metadata": {},
   "outputs": [
    {
     "ename": "ModuleNotFoundError",
     "evalue": "No module named 'numpy'",
     "output_type": "error",
     "traceback": [
      "\u001b[1;31m---------------------------------------------------------------------------\u001b[0m",
      "\u001b[1;31mModuleNotFoundError\u001b[0m                       Traceback (most recent call last)",
      "Input \u001b[1;32mIn [2]\u001b[0m, in \u001b[0;36m<cell line: 1>\u001b[1;34m()\u001b[0m\n\u001b[1;32m----> 1\u001b[0m \u001b[38;5;28;01mimport\u001b[39;00m \u001b[38;5;21;01mnumpy\u001b[39;00m \u001b[38;5;28;01mas\u001b[39;00m \u001b[38;5;21;01mnp\u001b[39;00m\n\u001b[0;32m      2\u001b[0m \u001b[38;5;28;01mfrom\u001b[39;00m \u001b[38;5;21;01mtruthdiscovery\u001b[39;00m \u001b[38;5;28;01mimport\u001b[39;00m (\n\u001b[0;32m      3\u001b[0m     AverageLog,\n\u001b[0;32m      4\u001b[0m     ConvergenceIterator,\n\u001b[1;32m   (...)\u001b[0m\n\u001b[0;32m     14\u001b[0m     SupervisedData\n\u001b[0;32m     15\u001b[0m )\n",
      "\u001b[1;31mModuleNotFoundError\u001b[0m: No module named 'numpy'"
     ]
    }
   ],
   "source": [
    "import numpy as np\n",
    "from truthdiscovery import (\n",
    "    AverageLog,\n",
    "    ConvergenceIterator,\n",
    "    FixedIterator,\n",
    "    Investment,\n",
    "    MajorityVoting,\n",
    "    PooledInvestment,\n",
    "    Sums,\n",
    "    TruthFinder,\n",
    "    SyntheticData,\n",
    "    Dataset,\n",
    "    FileDataset,\n",
    "    SupervisedData\n",
    ")\n",
    "\n"
   ]
  },
  {
   "cell_type": "markdown",
   "id": "9c50253d",
   "metadata": {},
   "source": [
    "### Synthetic data format:"
   ]
  },
  {
   "cell_type": "code",
   "execution_count": 2,
   "id": "2553f6ab",
   "metadata": {
    "scrolled": true
   },
   "outputs": [
    {
     "name": "stdout",
     "output_type": "stream",
     "text": [
      "['7.0,5.0,13.0,8.0,17.0,15.0,3.0,14.0,17.0,18.0,9.0,2.0,11.0,16.0,12.0,6.0,6.0,4.0,10.0,7.0,4.0,6.0,15.0,19.0,0.0,7.0,9.0,2.0,9.0,18.0,5.0,11.0,1.0,3.0,7.0,14.0,18.0,1.0,10.0,11.0,5.0,5.0,18.0,10.0,2.0,9.0,13.0,0.0,6.0,1.0,18.0,2.0,13.0,2.0,19.0,11.0,4.0,12.0,0.0,2.0,2.0,10.0,2.0,16.0,15.0,3.0,11.0,5.0,12.0,6.0,5.0,18.0,14.0,8.0,14.0,1.0,2.0,3.0,1.0,7.0,17.0,14.0,16.0,19.0,14.0,1.0,12.0,13.0,5.0,18.0,15.0,4.0,0.0,11.0,12.0,18.0,12.0,9.0,7.0,0.0', '3.0,,13.0,,16.0,15.0,3.0,3.0,,15.0,9.0,0.0,1.0,1.0,12.0,6.0,6.0,,,7.0,4.0,,,1.0,0.0,,0.0,0.0,1.0,18.0,5.0,12.0,,3.0,5.0,,18.0,17.0,10.0,11.0,5.0,10.0,10.0,10.0,4.0,19.0,12.0,0.0,6.0,1.0,18.0,,13.0,2.0,15.0,0.0,15.0,,0.0,2.0,16.0,10.0,6.0,16.0,15.0,3.0,,,13.0,,,2.0,14.0,8.0,14.0,,9.0,,,7.0,3.0,,14.0,16.0,18.0,17.0,12.0,3.0,5.0,18.0,15.0,4.0,0.0,18.0,12.0,0.0,10.0,9.0,,', ',,5.0,16.0,13.0,8.0,13.0,6.0,17.0,19.0,9.0,0.0,11.0,16.0,9.0,,6.0,12.0,10.0,,19.0,15.0,15.0,19.0,,15.0,12.0,2.0,9.0,,17.0,6.0,3.0,5.0,,14.0,3.0,,10.0,,5.0,5.0,9.0,10.0,2.0,9.0,13.0,14.0,2.0,0.0,,17.0,13.0,,,,4.0,1.0,12.0,5.0,19.0,,13.0,6.0,,,4.0,5.0,6.0,1.0,15.0,9.0,14.0,8.0,16.0,4.0,18.0,1.0,10.0,,17.0,,12.0,2.0,14.0,,12.0,19.0,,,15.0,8.0,,11.0,12.0,18.0,19.0,6.0,,0.0', '11.0,10.0,2.0,13.0,,17.0,,18.0,6.0,11.0,7.0,5.0,11.0,,0.0,6.0,6.0,7.0,10.0,,3.0,0.0,,,0.0,,,7.0,8.0,18.0,,16.0,,15.0,7.0,18.0,13.0,1.0,,5.0,5.0,5.0,,11.0,2.0,,13.0,0.0,6.0,,7.0,7.0,18.0,13.0,19.0,8.0,10.0,12.0,0.0,,2.0,,7.0,16.0,,,11.0,,,6.0,7.0,18.0,,1.0,14.0,1.0,2.0,,1.0,7.0,17.0,,15.0,11.0,14.0,12.0,1.0,13.0,,2.0,5.0,11.0,0.0,11.0,11.0,,0.0,9.0,7.0,', '7.0,,13.0,8.0,17.0,,17.0,14.0,17.0,18.0,9.0,,1.0,16.0,4.0,6.0,6.0,4.0,10.0,7.0,,6.0,15.0,,,,16.0,,9.0,18.0,5.0,11.0,1.0,1.0,7.0,14.0,18.0,,10.0,,,5.0,18.0,10.0,2.0,,13.0,0.0,6.0,1.0,,,13.0,2.0,19.0,,4.0,15.0,,,2.0,10.0,18.0,16.0,17.0,4.0,,5.0,6.0,,5.0,18.0,,8.0,14.0,11.0,2.0,,1.0,7.0,13.0,14.0,16.0,16.0,,,12.0,13.0,8.0,18.0,10.0,,0.0,11.0,12.0,2.0,15.0,6.0,7.0,16.0']\n"
     ]
    }
   ],
   "source": [
    "synth = SyntheticData(\n",
    "trust=np.random.uniform(size=(4,)),\n",
    "num_variables=100,\n",
    "claim_probability=0.75,\n",
    "domain_size=20)\n",
    "synth = synth.to_csv()\n",
    "data = synth.split('\\n')\n",
    "print(data)"
   ]
  },
  {
   "cell_type": "markdown",
   "id": "c2b060c6",
   "metadata": {},
   "source": [
    "### Processed sytnthetic data format:"
   ]
  },
  {
   "cell_type": "code",
   "execution_count": 4,
   "id": "a6ecbab8",
   "metadata": {},
   "outputs": [
    {
     "name": "stdout",
     "output_type": "stream",
     "text": [
      "Ground truths:\n",
      "{'cell 1': '9.0', 'cell 2': '13.0', 'cell 3': '11.0', 'cell 4': '17.0', 'cell 5': '10.0', 'cell 6': '16.0', 'cell 7': '3.0', 'cell 8': '3.0', 'cell 9': '13.0', 'cell 10': '10.0', 'cell 11': '3.0', 'cell 12': '7.0', 'cell 13': '17.0', 'cell 14': '3.0', 'cell 15': '17.0', 'cell 16': '2.0', 'cell 17': '11.0', 'cell 18': '14.0', 'cell 19': '12.0', 'cell 20': '5.0', 'cell 21': '5.0', 'cell 22': '5.0', 'cell 23': '11.0', 'cell 24': '11.0', 'cell 25': '2.0', 'cell 26': '6.0', 'cell 27': '10.0', 'cell 28': '5.0', 'cell 29': '6.0', 'cell 30': '2.0', 'cell 31': '17.0', 'cell 32': '18.0', 'cell 33': '8.0', 'cell 34': '2.0', 'cell 35': '15.0', 'cell 36': '8.0', 'cell 37': '4.0', 'cell 38': '12.0', 'cell 39': '6.0', 'cell 40': '11.0', 'cell 41': '2.0', 'cell 42': '4.0', 'cell 43': '8.0', 'cell 44': '10.0', 'cell 45': '9.0', 'cell 46': '11.0', 'cell 47': '6.0', 'cell 48': '17.0', 'cell 49': '17.0', 'cell 50': '12.0', 'cell 51': '3.0', 'cell 52': '8.0', 'cell 53': '0.0', 'cell 54': '3.0', 'cell 55': '5.0', 'cell 56': '3.0', 'cell 57': '1.0', 'cell 58': '11.0', 'cell 59': '1.0', 'cell 60': '14.0', 'cell 61': '7.0', 'cell 62': '15.0', 'cell 63': '3.0', 'cell 64': '10.0', 'cell 65': '3.0', 'cell 66': '3.0', 'cell 67': '3.0', 'cell 68': '9.0', 'cell 69': '0.0', 'cell 70': '4.0', 'cell 71': '9.0', 'cell 72': '15.0', 'cell 73': '2.0', 'cell 74': '11.0', 'cell 75': '1.0', 'cell 76': '19.0', 'cell 77': '0.0', 'cell 78': '14.0', 'cell 79': '2.0', 'cell 80': '10.0', 'cell 81': '15.0', 'cell 82': '2.0', 'cell 83': '12.0', 'cell 84': '3.0', 'cell 85': '7.0', 'cell 86': '10.0', 'cell 87': '10.0', 'cell 88': '5.0', 'cell 89': '18.0', 'cell 90': '10.0', 'cell 91': '5.0', 'cell 92': '10.0', 'cell 93': '1.0', 'cell 94': '19.0', 'cell 95': '16.0', 'cell 96': '17.0', 'cell 97': '3.0', 'cell 98': '6.0', 'cell 99': '16.0', 'cell 100': '2.0'}\n",
      "\n",
      "Claims:\n",
      "[('source 1', 'cell 1', '16.0'), ('source 1', 'cell 2', ''), ('source 1', 'cell 3', '0.0'), ('source 1', 'cell 4', ''), ('source 1', 'cell 5', '7.0'), ('source 1', 'cell 6', ''), ('source 1', 'cell 7', ''), ('source 1', 'cell 8', ''), ('source 1', 'cell 9', '2.0'), ('source 1', 'cell 10', ''), ('source 1', 'cell 11', ''), ('source 1', 'cell 12', ''), ('source 1', 'cell 13', ''), ('source 1', 'cell 14', ''), ('source 1', 'cell 15', '13.0'), ('source 1', 'cell 16', ''), ('source 1', 'cell 17', ''), ('source 1', 'cell 18', ''), ('source 1', 'cell 19', '8.0'), ('source 1', 'cell 20', '16.0'), ('source 1', 'cell 21', ''), ('source 1', 'cell 22', '8.0'), ('source 1', 'cell 23', '0.0'), ('source 1', 'cell 24', ''), ('source 1', 'cell 25', ''), ('source 1', 'cell 26', ''), ('source 1', 'cell 27', ''), ('source 1', 'cell 28', '11.0'), ('source 1', 'cell 29', ''), ('source 1', 'cell 30', '6.0'), ('source 1', 'cell 31', ''), ('source 1', 'cell 32', ''), ('source 1', 'cell 33', ''), ('source 1', 'cell 34', ''), ('source 1', 'cell 35', ''), ('source 1', 'cell 36', ''), ('source 1', 'cell 37', ''), ('source 1', 'cell 38', ''), ('source 1', 'cell 39', ''), ('source 1', 'cell 40', ''), ('source 1', 'cell 41', ''), ('source 1', 'cell 42', ''), ('source 1', 'cell 43', ''), ('source 1', 'cell 44', ''), ('source 1', 'cell 45', '15.0'), ('source 1', 'cell 46', ''), ('source 1', 'cell 47', ''), ('source 1', 'cell 48', ''), ('source 1', 'cell 49', ''), ('source 1', 'cell 50', '9.0'), ('source 1', 'cell 51', ''), ('source 1', 'cell 52', '13.0'), ('source 1', 'cell 53', ''), ('source 1', 'cell 54', '15.0'), ('source 1', 'cell 55', ''), ('source 1', 'cell 56', ''), ('source 1', 'cell 57', ''), ('source 1', 'cell 58', ''), ('source 1', 'cell 59', ''), ('source 1', 'cell 60', ''), ('source 1', 'cell 61', ''), ('source 1', 'cell 62', ''), ('source 1', 'cell 63', '15.0'), ('source 1', 'cell 64', '13.0'), ('source 1', 'cell 65', ''), ('source 1', 'cell 66', ''), ('source 1', 'cell 67', ''), ('source 1', 'cell 68', ''), ('source 1', 'cell 69', ''), ('source 1', 'cell 70', ''), ('source 1', 'cell 71', ''), ('source 1', 'cell 72', ''), ('source 1', 'cell 73', ''), ('source 1', 'cell 74', ''), ('source 1', 'cell 75', '17.0'), ('source 1', 'cell 76', ''), ('source 1', 'cell 77', '0.0'), ('source 1', 'cell 78', '4.0'), ('source 1', 'cell 79', '6.0'), ('source 1', 'cell 80', '4.0'), ('source 1', 'cell 81', ''), ('source 1', 'cell 82', '4.0'), ('source 1', 'cell 83', ''), ('source 1', 'cell 84', ''), ('source 1', 'cell 85', '11.0'), ('source 1', 'cell 86', '13.0'), ('source 1', 'cell 87', ''), ('source 1', 'cell 88', ''), ('source 1', 'cell 89', ''), ('source 1', 'cell 90', ''), ('source 1', 'cell 91', '8.0'), ('source 1', 'cell 92', '7.0'), ('source 1', 'cell 93', ''), ('source 1', 'cell 94', ''), ('source 1', 'cell 95', ''), ('source 1', 'cell 96', ''), ('source 1', 'cell 97', ''), ('source 1', 'cell 98', ''), ('source 1', 'cell 99', ''), ('source 1', 'cell 100', ''), ('source 2', 'cell 1', ''), ('source 2', 'cell 2', ''), ('source 2', 'cell 3', ''), ('source 2', 'cell 4', ''), ('source 2', 'cell 5', ''), ('source 2', 'cell 6', ''), ('source 2', 'cell 7', ''), ('source 2', 'cell 8', '3.0'), ('source 2', 'cell 9', ''), ('source 2', 'cell 10', ''), ('source 2', 'cell 11', '8.0'), ('source 2', 'cell 12', ''), ('source 2', 'cell 13', ''), ('source 2', 'cell 14', ''), ('source 2', 'cell 15', '7.0'), ('source 2', 'cell 16', '7.0'), ('source 2', 'cell 17', ''), ('source 2', 'cell 18', ''), ('source 2', 'cell 19', ''), ('source 2', 'cell 20', ''), ('source 2', 'cell 21', ''), ('source 2', 'cell 22', ''), ('source 2', 'cell 23', ''), ('source 2', 'cell 24', ''), ('source 2', 'cell 25', ''), ('source 2', 'cell 26', '10.0'), ('source 2', 'cell 27', ''), ('source 2', 'cell 28', ''), ('source 2', 'cell 29', ''), ('source 2', 'cell 30', ''), ('source 2', 'cell 31', '6.0'), ('source 2', 'cell 32', '7.0'), ('source 2', 'cell 33', '5.0'), ('source 2', 'cell 34', ''), ('source 2', 'cell 35', '13.0'), ('source 2', 'cell 36', ''), ('source 2', 'cell 37', '15.0'), ('source 2', 'cell 38', ''), ('source 2', 'cell 39', '6.0'), ('source 2', 'cell 40', '11.0'), ('source 2', 'cell 41', '14.0'), ('source 2', 'cell 42', ''), ('source 2', 'cell 43', '6.0'), ('source 2', 'cell 44', '1.0'), ('source 2', 'cell 45', '4.0'), ('source 2', 'cell 46', ''), ('source 2', 'cell 47', '2.0'), ('source 2', 'cell 48', '15.0'), ('source 2', 'cell 49', ''), ('source 2', 'cell 50', ''), ('source 2', 'cell 51', ''), ('source 2', 'cell 52', ''), ('source 2', 'cell 53', ''), ('source 2', 'cell 54', ''), ('source 2', 'cell 55', '3.0'), ('source 2', 'cell 56', ''), ('source 2', 'cell 57', '15.0'), ('source 2', 'cell 58', '4.0'), ('source 2', 'cell 59', '6.0'), ('source 2', 'cell 60', ''), ('source 2', 'cell 61', ''), ('source 2', 'cell 62', ''), ('source 2', 'cell 63', '15.0'), ('source 2', 'cell 64', ''), ('source 2', 'cell 65', '2.0'), ('source 2', 'cell 66', '3.0'), ('source 2', 'cell 67', '14.0'), ('source 2', 'cell 68', '16.0'), ('source 2', 'cell 69', ''), ('source 2', 'cell 70', ''), ('source 2', 'cell 71', '0.0'), ('source 2', 'cell 72', ''), ('source 2', 'cell 73', ''), ('source 2', 'cell 74', ''), ('source 2', 'cell 75', ''), ('source 2', 'cell 76', '15.0'), ('source 2', 'cell 77', ''), ('source 2', 'cell 78', ''), ('source 2', 'cell 79', ''), ('source 2', 'cell 80', ''), ('source 2', 'cell 81', '7.0'), ('source 2', 'cell 82', ''), ('source 2', 'cell 83', ''), ('source 2', 'cell 84', ''), ('source 2', 'cell 85', ''), ('source 2', 'cell 86', ''), ('source 2', 'cell 87', ''), ('source 2', 'cell 88', ''), ('source 2', 'cell 89', '18.0'), ('source 2', 'cell 90', '2.0'), ('source 2', 'cell 91', ''), ('source 2', 'cell 92', '19.0'), ('source 2', 'cell 93', '4.0'), ('source 2', 'cell 94', ''), ('source 2', 'cell 95', '16.0'), ('source 2', 'cell 96', ''), ('source 2', 'cell 97', ''), ('source 2', 'cell 98', '18.0'), ('source 2', 'cell 99', '19.0'), ('source 2', 'cell 100', '18.0'), ('source 3', 'cell 1', '9.0'), ('source 3', 'cell 2', '13.0'), ('source 3', 'cell 3', '11.0'), ('source 3', 'cell 4', '17.0'), ('source 3', 'cell 5', ''), ('source 3', 'cell 6', '16.0'), ('source 3', 'cell 7', '1.0'), ('source 3', 'cell 8', ''), ('source 3', 'cell 9', ''), ('source 3', 'cell 10', '10.0'), ('source 3', 'cell 11', ''), ('source 3', 'cell 12', ''), ('source 3', 'cell 13', '5.0'), ('source 3', 'cell 14', '3.0'), ('source 3', 'cell 15', ''), ('source 3', 'cell 16', '2.0'), ('source 3', 'cell 17', '9.0'), ('source 3', 'cell 18', ''), ('source 3', 'cell 19', ''), ('source 3', 'cell 20', '17.0'), ('source 3', 'cell 21', '5.0'), ('source 3', 'cell 22', ''), ('source 3', 'cell 23', ''), ('source 3', 'cell 24', '11.0'), ('source 3', 'cell 25', ''), ('source 3', 'cell 26', ''), ('source 3', 'cell 27', '10.0'), ('source 3', 'cell 28', '4.0'), ('source 3', 'cell 29', ''), ('source 3', 'cell 30', ''), ('source 3', 'cell 31', ''), ('source 3', 'cell 32', ''), ('source 3', 'cell 33', ''), ('source 3', 'cell 34', ''), ('source 3', 'cell 35', ''), ('source 3', 'cell 36', '8.0'), ('source 3', 'cell 37', ''), ('source 3', 'cell 38', '12.0'), ('source 3', 'cell 39', ''), ('source 3', 'cell 40', ''), ('source 3', 'cell 41', ''), ('source 3', 'cell 42', ''), ('source 3', 'cell 43', '8.0'), ('source 3', 'cell 44', ''), ('source 3', 'cell 45', ''), ('source 3', 'cell 46', '11.0'), ('source 3', 'cell 47', '6.0'), ('source 3', 'cell 48', '17.0'), ('source 3', 'cell 49', ''), ('source 3', 'cell 50', ''), ('source 3', 'cell 51', ''), ('source 3', 'cell 52', ''), ('source 3', 'cell 53', ''), ('source 3', 'cell 54', ''), ('source 3', 'cell 55', ''), ('source 3', 'cell 56', ''), ('source 3', 'cell 57', ''), ('source 3', 'cell 58', ''), ('source 3', 'cell 59', ''), ('source 3', 'cell 60', ''), ('source 3', 'cell 61', ''), ('source 3', 'cell 62', '9.0'), ('source 3', 'cell 63', '3.0'), ('source 3', 'cell 64', '10.0'), ('source 3', 'cell 65', ''), ('source 3', 'cell 66', ''), ('source 3', 'cell 67', ''), ('source 3', 'cell 68', '9.0'), ('source 3', 'cell 69', ''), ('source 3', 'cell 70', ''), ('source 3', 'cell 71', ''), ('source 3', 'cell 72', '8.0'), ('source 3', 'cell 73', '6.0'), ('source 3', 'cell 74', '11.0'), ('source 3', 'cell 75', ''), ('source 3', 'cell 76', ''), ('source 3', 'cell 77', '0.0'), ('source 3', 'cell 78', '14.0'), ('source 3', 'cell 79', '2.0'), ('source 3', 'cell 80', ''), ('source 3', 'cell 81', ''), ('source 3', 'cell 82', ''), ('source 3', 'cell 83', ''), ('source 3', 'cell 84', ''), ('source 3', 'cell 85', ''), ('source 3', 'cell 86', ''), ('source 3', 'cell 87', ''), ('source 3', 'cell 88', ''), ('source 3', 'cell 89', ''), ('source 3', 'cell 90', ''), ('source 3', 'cell 91', ''), ('source 3', 'cell 92', ''), ('source 3', 'cell 93', ''), ('source 3', 'cell 94', ''), ('source 3', 'cell 95', ''), ('source 3', 'cell 96', '17.0'), ('source 3', 'cell 97', '3.0'), ('source 3', 'cell 98', ''), ('source 3', 'cell 99', '16.0'), ('source 3', 'cell 100', ''), ('source 4', 'cell 1', '17.0'), ('source 4', 'cell 2', ''), ('source 4', 'cell 3', ''), ('source 4', 'cell 4', ''), ('source 4', 'cell 5', ''), ('source 4', 'cell 6', ''), ('source 4', 'cell 7', ''), ('source 4', 'cell 8', ''), ('source 4', 'cell 9', ''), ('source 4', 'cell 10', ''), ('source 4', 'cell 11', ''), ('source 4', 'cell 12', '13.0'), ('source 4', 'cell 13', ''), ('source 4', 'cell 14', ''), ('source 4', 'cell 15', '0.0'), ('source 4', 'cell 16', ''), ('source 4', 'cell 17', ''), ('source 4', 'cell 18', '14.0'), ('source 4', 'cell 19', ''), ('source 4', 'cell 20', ''), ('source 4', 'cell 21', ''), ('source 4', 'cell 22', ''), ('source 4', 'cell 23', ''), ('source 4', 'cell 24', ''), ('source 4', 'cell 25', '2.0'), ('source 4', 'cell 26', ''), ('source 4', 'cell 27', ''), ('source 4', 'cell 28', ''), ('source 4', 'cell 29', '6.0'), ('source 4', 'cell 30', ''), ('source 4', 'cell 31', ''), ('source 4', 'cell 32', '11.0'), ('source 4', 'cell 33', ''), ('source 4', 'cell 34', '13.0'), ('source 4', 'cell 35', ''), ('source 4', 'cell 36', ''), ('source 4', 'cell 37', '4.0'), ('source 4', 'cell 38', ''), ('source 4', 'cell 39', '6.0'), ('source 4', 'cell 40', '11.0'), ('source 4', 'cell 41', ''), ('source 4', 'cell 42', '4.0'), ('source 4', 'cell 43', '1.0'), ('source 4', 'cell 44', ''), ('source 4', 'cell 45', '9.0'), ('source 4', 'cell 46', ''), ('source 4', 'cell 47', '6.0'), ('source 4', 'cell 48', '17.0'), ('source 4', 'cell 49', '15.0'), ('source 4', 'cell 50', ''), ('source 4', 'cell 51', '17.0'), ('source 4', 'cell 52', ''), ('source 4', 'cell 53', '0.0'), ('source 4', 'cell 54', ''), ('source 4', 'cell 55', ''), ('source 4', 'cell 56', '8.0'), ('source 4', 'cell 57', '15.0'), ('source 4', 'cell 58', ''), ('source 4', 'cell 59', ''), ('source 4', 'cell 60', '18.0'), ('source 4', 'cell 61', '0.0'), ('source 4', 'cell 62', ''), ('source 4', 'cell 63', ''), ('source 4', 'cell 64', '10.0'), ('source 4', 'cell 65', ''), ('source 4', 'cell 66', ''), ('source 4', 'cell 67', ''), ('source 4', 'cell 68', ''), ('source 4', 'cell 69', '0.0'), ('source 4', 'cell 70', '4.0'), ('source 4', 'cell 71', ''), ('source 4', 'cell 72', ''), ('source 4', 'cell 73', ''), ('source 4', 'cell 74', '12.0'), ('source 4', 'cell 75', ''), ('source 4', 'cell 76', ''), ('source 4', 'cell 77', '0.0'), ('source 4', 'cell 78', ''), ('source 4', 'cell 79', ''), ('source 4', 'cell 80', ''), ('source 4', 'cell 81', ''), ('source 4', 'cell 82', '2.0'), ('source 4', 'cell 83', '12.0'), ('source 4', 'cell 84', '3.0'), ('source 4', 'cell 85', ''), ('source 4', 'cell 86', '10.0'), ('source 4', 'cell 87', '16.0'), ('source 4', 'cell 88', '5.0'), ('source 4', 'cell 89', ''), ('source 4', 'cell 90', ''), ('source 4', 'cell 91', ''), ('source 4', 'cell 92', ''), ('source 4', 'cell 93', ''), ('source 4', 'cell 94', '19.0'), ('source 4', 'cell 95', '16.0'), ('source 4', 'cell 96', '3.0'), ('source 4', 'cell 97', ''), ('source 4', 'cell 98', ''), ('source 4', 'cell 99', ''), ('source 4', 'cell 100', '')]\n"
     ]
    }
   ],
   "source": [
    "for _ in range(100):\n",
    "        #random cell type data synthesis\n",
    "        synth = SyntheticData(\n",
    "            trust=np.random.uniform(size=(4,)),\n",
    "            num_variables=100,\n",
    "            claim_probability=0.25,\n",
    "            domain_size=20\n",
    "        )\n",
    "        synth = synth.to_csv()\n",
    "        data = synth.split('\\n')\n",
    "\n",
    "        #data processing\n",
    "        index = 0\n",
    "        ground_truths = {}\n",
    "        claims = []\n",
    "        for n in data:\n",
    "            if index == 0:\n",
    "                for i, cell_type_t in enumerate(data[0].split(',')):\n",
    "                    ground_truths[f'cell {i+1}'] = cell_type_t\n",
    "            elif index >0:\n",
    "                for z, cell_type in enumerate(data[index].split(',')):\n",
    "                    claims.append((f'source {index}', f'cell {z+1}', cell_type))\n",
    "            index+=1\n",
    "\n",
    "print('Ground truths:')\n",
    "print(ground_truths)\n",
    "print()\n",
    "print(\"Claims:\")\n",
    "print(claims)"
   ]
  },
  {
   "cell_type": "markdown",
   "id": "73277479",
   "metadata": {},
   "source": [
    "### Average algorithm accuracy testing (each result is an average of 100 runs)\n",
    "(choose any algorithm from the imported ones for the algorithm variable)"
   ]
  },
  {
   "cell_type": "code",
   "execution_count": null,
   "id": "38dde27e",
   "metadata": {
    "scrolled": false
   },
   "outputs": [],
   "source": [
    "for r in range(100):\n",
    "    iters = 0\n",
    "    accuracy_score = []\n",
    "    total = 0\n",
    "    while iters<101:\n",
    "        #random cell type data synthesis\n",
    "        synth = SyntheticData(\n",
    "            trust=np.random.uniform(size=(4,)),\n",
    "            num_variables=100,\n",
    "            claim_probability=1.0,\n",
    "            domain_size=20\n",
    "        )\n",
    "        synth = synth.to_csv()\n",
    "        data = synth.split('\\n')\n",
    "\n",
    "        #data processing\n",
    "        index = 0\n",
    "        ground_truths = {}\n",
    "        claims = []\n",
    "        for n in data:\n",
    "            if index == 0:\n",
    "                for i, cell_type_t in enumerate(data[0].split(',')):\n",
    "                    ground_truths[f'cell {i+1}'] = cell_type_t\n",
    "            elif index >0:\n",
    "                for z, cell_type in enumerate(data[index].split(',')):\n",
    "                    claims.append((f'source {index}', f'cell {z+1}', cell_type))\n",
    "            index+=1\n",
    "\n",
    "        algorithm = TruthFinder(initial_trust=0.1, influence_param = 0.0)\n",
    "        mydata = Dataset(claims)\n",
    "        supervised = SupervisedData(mydata, ground_truths)\n",
    "        results = algorithm.run(supervised.data)\n",
    "        accuracy = supervised.get_accuracy(results)\n",
    "        accuracy_score.append(accuracy)\n",
    "        iters +=1\n",
    "\n",
    "    average_accuracy = sum(accuracy_score)/len(accuracy_score)\n",
    "    print(average_accuracy)"
   ]
  },
  {
   "cell_type": "markdown",
   "id": "d247ee1e",
   "metadata": {},
   "source": [
    "### Non-average accuracy testing, 1000 runs accuracy measurement\n",
    "(choose any algorithm from the imported ones for the algorithm variable)"
   ]
  },
  {
   "cell_type": "code",
   "execution_count": null,
   "id": "b652cd66",
   "metadata": {},
   "outputs": [],
   "source": [
    " for _ in range(1000):\n",
    "        #random cell type data synthesis\n",
    "        synth = SyntheticData(\n",
    "            trust=np.random.uniform(size=(4,)),\n",
    "            num_variables=100,\n",
    "            claim_probability=1.0,\n",
    "            domain_size=20\n",
    "        )\n",
    "        synth = synth.to_csv()\n",
    "        data = synth.split('\\n')\n",
    "\n",
    "        #data processing\n",
    "        index = 0\n",
    "        ground_truths = {}\n",
    "        claims = []\n",
    "        for n in data:\n",
    "            if index == 0:\n",
    "                for i, cell_type_t in enumerate(data[0].split(',')):\n",
    "                    ground_truths[f'cell {i+1}'] = cell_type_t\n",
    "            elif index >0:\n",
    "                for z, cell_type in enumerate(data[index].split(',')):\n",
    "                    claims.append((f'source {index}', f'cell {z+1}', cell_type))\n",
    "            index+=1\n",
    "\n",
    "        algorithm = Investment()\n",
    "        mydata = Dataset(claims)\n",
    "        supervised = SupervisedData(mydata, ground_truths)\n",
    "        results = algorithm.run(supervised.data)\n",
    "        accuracy = supervised.get_accuracy(results)\n",
    "        print(accuracy)"
   ]
  },
  {
   "cell_type": "markdown",
   "id": "f2022731",
   "metadata": {},
   "source": [
    "### Results data was collected and compared using boxplots in Excel"
   ]
  }
 ],
 "metadata": {
  "kernelspec": {
   "display_name": "Python 3 (ipykernel)",
   "language": "python",
   "name": "python3"
  },
  "language_info": {
   "codemirror_mode": {
    "name": "ipython",
    "version": 3
   },
   "file_extension": ".py",
   "mimetype": "text/x-python",
   "name": "python",
   "nbconvert_exporter": "python",
   "pygments_lexer": "ipython3",
   "version": "3.9.12"
  }
 },
 "nbformat": 4,
 "nbformat_minor": 5
}
